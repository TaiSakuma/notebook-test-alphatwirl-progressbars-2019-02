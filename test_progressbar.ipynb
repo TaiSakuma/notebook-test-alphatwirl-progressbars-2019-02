{
 "cells": [
  {
   "cell_type": "markdown",
   "metadata": {},
   "source": [
    "#### A simple example of alphatwirl progress bars with multiprocessing on jupyter notebook\n",
    "\n",
    "import some python standard libraries"
   ]
  },
  {
   "cell_type": "code",
   "execution_count": null,
   "metadata": {},
   "outputs": [],
   "source": [
    "import sys\n",
    "import time, random"
   ]
  },
  {
   "cell_type": "markdown",
   "metadata": {},
   "source": [
    "import `alphatwirl` and `atbpar`. `atpbar` is an iterable that can wrap another iterable and show the progress bars for the iterations."
   ]
  },
  {
   "cell_type": "code",
   "execution_count": null,
   "metadata": {},
   "outputs": [],
   "source": [
    "import alphatwirl\n",
    "from alphatwirl.progressbar import atpbar"
   ]
  },
  {
   "cell_type": "markdown",
   "metadata": {},
   "source": [
    "define a fanctor, a simple example task"
   ]
  },
  {
   "cell_type": "code",
   "execution_count": null,
   "metadata": {},
   "outputs": [],
   "source": [
    "class Task(object):\n",
    "    def __init__(self, name):\n",
    "        self.name = name\n",
    "    def __call__(self):\n",
    "        n = random.randint(5, 100000)\n",
    "        time.sleep(random.randint(0, 3))\n",
    "        for i in atpbar(range(n), name=self.name):\n",
    "            time.sleep(0.0001)\n",
    "        return None"
   ]
  },
  {
   "cell_type": "markdown",
   "metadata": {},
   "source": [
    "define the main function `run()`, which runs multiple instances of the task defined above."
   ]
  },
  {
   "cell_type": "code",
   "execution_count": null,
   "metadata": {},
   "outputs": [],
   "source": [
    "def run():\n",
    "    parallel = alphatwirl.parallel.build_parallel(\n",
    "        parallel_mode='multiprocessing',\n",
    "        quiet=False,\n",
    "        processes=8\n",
    "    )\n",
    "\n",
    "    parallel.begin()\n",
    "\n",
    "    parallel.communicationChannel.put(Task(\"loop\"))\n",
    "    parallel.communicationChannel.put(Task(\"another loop\"))\n",
    "    parallel.communicationChannel.put(Task(\"more loop\"))\n",
    "    parallel.communicationChannel.put(Task(\"loop loop loop\"))\n",
    "    parallel.communicationChannel.put(Task(\"l\"))\n",
    "    parallel.communicationChannel.put(Task(\"loop6\"))\n",
    "    parallel.communicationChannel.put(Task(\"loop7\"))\n",
    "    parallel.communicationChannel.put(Task(\"loop8\"))\n",
    "    parallel.communicationChannel.put(Task(\"loop6\"))\n",
    "\n",
    "    parallel.communicationChannel.receive()\n",
    "\n",
    "    parallel.end()"
   ]
  },
  {
   "cell_type": "markdown",
   "metadata": {},
   "source": [
    "run! Multiple progress bars will simultaneously grow."
   ]
  },
  {
   "cell_type": "code",
   "execution_count": null,
   "metadata": {},
   "outputs": [],
   "source": [
    "run()"
   ]
  }
 ],
 "metadata": {
  "kernelspec": {
   "display_name": "Python 3",
   "language": "python",
   "name": "python3"
  },
  "language_info": {
   "codemirror_mode": {
    "name": "ipython",
    "version": 3
   },
   "file_extension": ".py",
   "mimetype": "text/x-python",
   "name": "python",
   "nbconvert_exporter": "python",
   "pygments_lexer": "ipython3",
   "version": "3.6.7"
  }
 },
 "nbformat": 4,
 "nbformat_minor": 2
}
