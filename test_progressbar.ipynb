{
 "cells": [
  {
   "cell_type": "markdown",
   "metadata": {},
   "source": [
    "- https://github.com/jupyter-widgets/ipywidgets/blob/master/ipywidgets/widgets/widget_int.py\n",
    "- https://github.com/tqdm/tqdm/blob/master/tqdm/_tqdm_notebook.py"
   ]
  },
  {
   "cell_type": "code",
   "execution_count": 1,
   "metadata": {},
   "outputs": [],
   "source": [
    "from ipywidgets import HBox, VBox, Label, HTML, IntProgress\n",
    "from IPython.display import display\n",
    "import sys\n",
    "import time, random\n",
    "import numpy as np"
   ]
  },
  {
   "cell_type": "code",
   "execution_count": 2,
   "metadata": {},
   "outputs": [
    {
     "name": "stdout",
     "output_type": "stream",
     "text": [
      "[353, 471, 212]\n"
     ]
    }
   ],
   "source": [
    "n = 3\n",
    "total = [random.randint(5, 1000) for i in range(n)]\n",
    "print(total)\n",
    "j = np.repeat(range(n), total)\n",
    "np.random.shuffle(j)"
   ]
  },
  {
   "cell_type": "code",
   "execution_count": 3,
   "metadata": {},
   "outputs": [
    {
     "data": {
      "application/vnd.jupyter.widget-view+json": {
       "model_id": "d29b25ceae314712993f104ad682e53e",
       "version_major": 2,
       "version_minor": 0
      },
      "text/plain": [
       "HBox(children=(IntProgress(value=0, description='<pre>  0.00%</pre>', max=353), HTML(value='<pre>0 / 353</pre>…"
      ]
     },
     "metadata": {},
     "output_type": "display_data"
    },
    {
     "data": {
      "application/vnd.jupyter.widget-view+json": {
       "model_id": "bdf8ece2dbdd4a8cacdac56e5e1f689e",
       "version_major": 2,
       "version_minor": 0
      },
      "text/plain": [
       "HBox(children=(IntProgress(value=0, description='<pre>  0.00%</pre>', max=471), HTML(value='<pre>0 / 471</pre>…"
      ]
     },
     "metadata": {},
     "output_type": "display_data"
    },
    {
     "data": {
      "application/vnd.jupyter.widget-view+json": {
       "model_id": "4a0a71474f9c427097433948996e0cad",
       "version_major": 2,
       "version_minor": 0
      },
      "text/plain": [
       "HBox(children=(IntProgress(value=0, description='<pre>  0.00%</pre>', max=212), HTML(value='<pre>0 / 212</pre>…"
      ]
     },
     "metadata": {},
     "output_type": "display_data"
    }
   ],
   "source": [
    "ps = [[IntProgress(\n",
    "        value=0,\n",
    "        min=0,\n",
    "        max=t,\n",
    "        step=1,\n",
    "        description='<pre>{:6.2f}%</pre>'.format(round(0/t * 100, 2)),\n",
    "        bar_style='', # 'success', 'info', 'warning', 'danger' or ''\n",
    "        orientation='horizontal'\n",
    "    ), HTML(value='<pre>0 / {}</pre>'.format(t))] for t in total]\n",
    "hs = [HBox(p) for p in ps]\n",
    "for h in hs:\n",
    "    display(h)\n",
    "for i in j:\n",
    "    ps[i][0].value += 1"
   ]
  },
  {
   "cell_type": "code",
   "execution_count": 4,
   "metadata": {},
   "outputs": [],
   "source": [
    "# vbox = VBox()\n",
    "# l1 = Label(value=\"label1\")\n",
    "# l2 = Label(value=\"label2\")\n",
    "# display(vbox)\n",
    "# time.sleep(random.randint(0, 5))\n",
    "# vbox.children = [l1]\n",
    "# time.sleep(random.randint(0, 5))\n",
    "# vbox.children = [l1, l2]\n",
    "# time.sleep(random.randint(0, 5))\n",
    "# vbox.children = [l2, l1]\n",
    "# time.sleep(random.randint(0, 5))\n",
    "# vbox.children = [l2]"
   ]
  },
  {
   "cell_type": "code",
   "execution_count": 5,
   "metadata": {},
   "outputs": [
    {
     "data": {
      "application/vnd.jupyter.widget-view+json": {
       "model_id": "314e33ee25e24152b85e2db484421744",
       "version_major": 2,
       "version_minor": 0
      },
      "text/plain": [
       "HTML(value='<pre>html</pre>')"
      ]
     },
     "metadata": {},
     "output_type": "display_data"
    }
   ],
   "source": [
    "HTML(value=\"<pre>html</pre>\")"
   ]
  },
  {
   "cell_type": "code",
   "execution_count": 6,
   "metadata": {},
   "outputs": [
    {
     "data": {
      "text/plain": [
       "False"
      ]
     },
     "execution_count": 6,
     "metadata": {},
     "output_type": "execute_result"
    }
   ],
   "source": [
    "sys.stdout.isatty()"
   ]
  },
  {
   "cell_type": "code",
   "execution_count": 7,
   "metadata": {},
   "outputs": [
    {
     "data": {
      "text/plain": [
       "{'IPKernelApp': {'connection_file': '/Users/sakuma/Library/Jupyter/runtime/kernel-d0d56027-59a9-4ed1-9b72-abb82dba7874.json'}}"
      ]
     },
     "execution_count": 7,
     "metadata": {},
     "output_type": "execute_result"
    }
   ],
   "source": [
    "get_ipython().config"
   ]
  },
  {
   "cell_type": "code",
   "execution_count": 8,
   "metadata": {},
   "outputs": [
    {
     "name": "stdout",
     "output_type": "stream",
     "text": [
      "Welcome to JupyROOT 6.14/06\n"
     ]
    }
   ],
   "source": [
    "import alphatwirl\n",
    "from alphatwirl.progressbar import atpbar"
   ]
  },
  {
   "cell_type": "code",
   "execution_count": 9,
   "metadata": {},
   "outputs": [],
   "source": [
    "class Task(object):\n",
    "    def __init__(self, name):\n",
    "        self.name = name\n",
    "    def __call__(self):\n",
    "        ## n = random.randint(5, 1000000)\n",
    "        n = random.randint(5, 100000)\n",
    "        time.sleep(random.randint(0, 3))\n",
    "        for i in atpbar(range(n), name=self.name):\n",
    "            time.sleep(0.0001)\n",
    "        return None"
   ]
  },
  {
   "cell_type": "code",
   "execution_count": 10,
   "metadata": {},
   "outputs": [],
   "source": [
    "def run():\n",
    "    parallel = alphatwirl.parallel.build_parallel(\n",
    "        parallel_mode='multiprocessing',\n",
    "        quiet=False,\n",
    "        processes=8\n",
    "    )\n",
    "\n",
    "    parallel.begin()\n",
    "    parallel.communicationChannel.put(Task(\"loop\"))\n",
    "    parallel.communicationChannel.put(Task(\"another loop\"))\n",
    "    parallel.communicationChannel.put(Task(\"more loop\"))\n",
    "    parallel.communicationChannel.put(Task(\"loop loop loop\"))\n",
    "    parallel.communicationChannel.put(Task(\"l\"))\n",
    "    parallel.communicationChannel.put(Task(\"loop6\"))\n",
    "    parallel.communicationChannel.put(Task(\"loop7\"))\n",
    "    parallel.communicationChannel.put(Task(\"loop8\"))\n",
    "    parallel.communicationChannel.put(Task(\"loop6\"))\n",
    "\n",
    "    try:\n",
    "        parallel.communicationChannel.receive()\n",
    "    except KeyboardInterrupt:\n",
    "        parallel.terminate()\n",
    "    parallel.end()"
   ]
  },
  {
   "cell_type": "code",
   "execution_count": 11,
   "metadata": {},
   "outputs": [
    {
     "data": {
      "application/vnd.jupyter.widget-view+json": {
       "model_id": "b103adca6b8b400f978829956f052338",
       "version_major": 2,
       "version_minor": 0
      },
      "text/plain": [
       "VBox()"
      ]
     },
     "metadata": {},
     "output_type": "display_data"
    }
   ],
   "source": [
    "run()"
   ]
  },
  {
   "cell_type": "code",
   "execution_count": null,
   "metadata": {},
   "outputs": [],
   "source": []
  },
  {
   "cell_type": "code",
   "execution_count": null,
   "metadata": {},
   "outputs": [],
   "source": []
  }
 ],
 "metadata": {
  "kernelspec": {
   "display_name": "Python 3",
   "language": "python",
   "name": "python3"
  },
  "language_info": {
   "codemirror_mode": {
    "name": "ipython",
    "version": 3
   },
   "file_extension": ".py",
   "mimetype": "text/x-python",
   "name": "python",
   "nbconvert_exporter": "python",
   "pygments_lexer": "ipython3",
   "version": "3.6.7"
  }
 },
 "nbformat": 4,
 "nbformat_minor": 2
}
